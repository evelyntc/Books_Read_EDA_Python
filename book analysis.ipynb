{
 "cells": [
  {
   "cell_type": "markdown",
   "id": "b9a7722a",
   "metadata": {},
   "source": [
    "## Books I've Read"
   ]
  },
  {
   "cell_type": "markdown",
   "id": "4951c5a4",
   "metadata": {},
   "source": [
    "#### The purpose of this analysis is to look at the data science process from start to finish with Python\n",
    "\n",
    "##### backstory and give insights"
   ]
  },
  {
   "cell_type": "code",
   "execution_count": 1,
   "id": "e00224f8",
   "metadata": {},
   "outputs": [],
   "source": [
    "# Data manipulation  #explain library\n",
    "\n",
    "import pandas as pd\n",
    "\n",
    "#visualization\n",
    "import matplotlib.pyplot as plt\n",
    "import seaborn as sns"
   ]
  },
  {
   "cell_type": "markdown",
   "id": "b76319c7",
   "metadata": {},
   "source": [
    "## Importing Dataset"
   ]
  },
  {
   "cell_type": "code",
   "execution_count": 3,
   "id": "77614213",
   "metadata": {},
   "outputs": [],
   "source": [
    "#using pandas to read out data in an excel csv file\n",
    "df = pd.read_csv('books_read.csv',encoding='cp1252')\n",
    "\n",
    "#explain"
   ]
  },
  {
   "cell_type": "code",
   "execution_count": 4,
   "id": "23806aa4",
   "metadata": {},
   "outputs": [
    {
     "data": {
      "text/html": [
       "<div>\n",
       "<style scoped>\n",
       "    .dataframe tbody tr th:only-of-type {\n",
       "        vertical-align: middle;\n",
       "    }\n",
       "\n",
       "    .dataframe tbody tr th {\n",
       "        vertical-align: top;\n",
       "    }\n",
       "\n",
       "    .dataframe thead th {\n",
       "        text-align: right;\n",
       "    }\n",
       "</style>\n",
       "<table border=\"1\" class=\"dataframe\">\n",
       "  <thead>\n",
       "    <tr style=\"text-align: right;\">\n",
       "      <th></th>\n",
       "      <th>Year</th>\n",
       "      <th>Title</th>\n",
       "      <th>Genre</th>\n",
       "    </tr>\n",
       "  </thead>\n",
       "  <tbody>\n",
       "    <tr>\n",
       "      <th>0</th>\n",
       "      <td>2022</td>\n",
       "      <td>The Bear and the Nightingale</td>\n",
       "      <td>Fantasy Fiction</td>\n",
       "    </tr>\n",
       "    <tr>\n",
       "      <th>1</th>\n",
       "      <td>2022</td>\n",
       "      <td>The Midnight Library</td>\n",
       "      <td>Fantasy Fiction</td>\n",
       "    </tr>\n",
       "    <tr>\n",
       "      <th>2</th>\n",
       "      <td>2022</td>\n",
       "      <td>Untamed</td>\n",
       "      <td>Biography</td>\n",
       "    </tr>\n",
       "    <tr>\n",
       "      <th>3</th>\n",
       "      <td>2022</td>\n",
       "      <td>The Almanack of Naval Ravikant</td>\n",
       "      <td>Personal development</td>\n",
       "    </tr>\n",
       "    <tr>\n",
       "      <th>4</th>\n",
       "      <td>2022</td>\n",
       "      <td>Untamed</td>\n",
       "      <td>Biography</td>\n",
       "    </tr>\n",
       "    <tr>\n",
       "      <th>...</th>\n",
       "      <td>...</td>\n",
       "      <td>...</td>\n",
       "      <td>...</td>\n",
       "    </tr>\n",
       "    <tr>\n",
       "      <th>60</th>\n",
       "      <td>2015</td>\n",
       "      <td>The Feminine Mystique</td>\n",
       "      <td>Nonfiction</td>\n",
       "    </tr>\n",
       "    <tr>\n",
       "      <th>61</th>\n",
       "      <td>2015</td>\n",
       "      <td>I am Malala</td>\n",
       "      <td>Biography</td>\n",
       "    </tr>\n",
       "    <tr>\n",
       "      <th>62</th>\n",
       "      <td>2015</td>\n",
       "      <td>You’re so Money</td>\n",
       "      <td>Finances</td>\n",
       "    </tr>\n",
       "    <tr>\n",
       "      <th>63</th>\n",
       "      <td>2015</td>\n",
       "      <td>Yes, Please</td>\n",
       "      <td>Autobiography</td>\n",
       "    </tr>\n",
       "    <tr>\n",
       "      <th>64</th>\n",
       "      <td>2015</td>\n",
       "      <td>Servant Economy</td>\n",
       "      <td>Nonfiction</td>\n",
       "    </tr>\n",
       "  </tbody>\n",
       "</table>\n",
       "<p>65 rows × 3 columns</p>\n",
       "</div>"
      ],
      "text/plain": [
       "    Year                          Title                  Genre\n",
       "0   2022   The Bear and the Nightingale        Fantasy Fiction\n",
       "1   2022            The Midnight Library       Fantasy Fiction\n",
       "2   2022                         Untamed             Biography\n",
       "3   2022  The Almanack of Naval Ravikant  Personal development\n",
       "4   2022                         Untamed             Biography\n",
       "..   ...                             ...                   ...\n",
       "60  2015           The Feminine Mystique            Nonfiction\n",
       "61  2015                     I am Malala             Biography\n",
       "62  2015                 You’re so Money              Finances\n",
       "63  2015                     Yes, Please         Autobiography\n",
       "64  2015                 Servant Economy            Nonfiction\n",
       "\n",
       "[65 rows x 3 columns]"
      ]
     },
     "execution_count": 4,
     "metadata": {},
     "output_type": "execute_result"
    }
   ],
   "source": [
    "df"
   ]
  },
  {
   "cell_type": "markdown",
   "id": "469527c3",
   "metadata": {},
   "source": [
    "## Data Cleaning"
   ]
  },
  {
   "cell_type": "code",
   "execution_count": null,
   "id": "7e6bda24",
   "metadata": {},
   "outputs": [],
   "source": [
    "# Removing NA / Duplicates\n",
    "# Fixing any titles\n",
    "# Formatting Columns / remove fields you don't use\n",
    "# Removing unncessary columns\n",
    "# https://medium.com/nerd-for-tech/beginners-guide-to-pandas-dataframe-cleaning-8712a6e3e63a"
   ]
  },
  {
   "cell_type": "code",
   "execution_count": 5,
   "id": "8723b8a3",
   "metadata": {},
   "outputs": [
    {
     "data": {
      "text/html": [
       "<div>\n",
       "<style scoped>\n",
       "    .dataframe tbody tr th:only-of-type {\n",
       "        vertical-align: middle;\n",
       "    }\n",
       "\n",
       "    .dataframe tbody tr th {\n",
       "        vertical-align: top;\n",
       "    }\n",
       "\n",
       "    .dataframe thead th {\n",
       "        text-align: right;\n",
       "    }\n",
       "</style>\n",
       "<table border=\"1\" class=\"dataframe\">\n",
       "  <thead>\n",
       "    <tr style=\"text-align: right;\">\n",
       "      <th></th>\n",
       "      <th>Year</th>\n",
       "      <th>Title</th>\n",
       "      <th>Genre</th>\n",
       "    </tr>\n",
       "  </thead>\n",
       "  <tbody>\n",
       "    <tr>\n",
       "      <th>0</th>\n",
       "      <td>2022</td>\n",
       "      <td>The Bear and the Nightingale</td>\n",
       "      <td>Fantasy Fiction</td>\n",
       "    </tr>\n",
       "    <tr>\n",
       "      <th>1</th>\n",
       "      <td>2022</td>\n",
       "      <td>The Midnight Library</td>\n",
       "      <td>Fantasy Fiction</td>\n",
       "    </tr>\n",
       "    <tr>\n",
       "      <th>2</th>\n",
       "      <td>2022</td>\n",
       "      <td>Untamed</td>\n",
       "      <td>Biography</td>\n",
       "    </tr>\n",
       "    <tr>\n",
       "      <th>3</th>\n",
       "      <td>2022</td>\n",
       "      <td>The Almanack of Naval Ravikant</td>\n",
       "      <td>Personal development</td>\n",
       "    </tr>\n",
       "    <tr>\n",
       "      <th>6</th>\n",
       "      <td>2021</td>\n",
       "      <td>Signature of All Things</td>\n",
       "      <td>Historical fiction</td>\n",
       "    </tr>\n",
       "    <tr>\n",
       "      <th>...</th>\n",
       "      <td>...</td>\n",
       "      <td>...</td>\n",
       "      <td>...</td>\n",
       "    </tr>\n",
       "    <tr>\n",
       "      <th>60</th>\n",
       "      <td>2015</td>\n",
       "      <td>The Feminine Mystique</td>\n",
       "      <td>Nonfiction</td>\n",
       "    </tr>\n",
       "    <tr>\n",
       "      <th>61</th>\n",
       "      <td>2015</td>\n",
       "      <td>I am Malala</td>\n",
       "      <td>Biography</td>\n",
       "    </tr>\n",
       "    <tr>\n",
       "      <th>62</th>\n",
       "      <td>2015</td>\n",
       "      <td>You’re so Money</td>\n",
       "      <td>Finances</td>\n",
       "    </tr>\n",
       "    <tr>\n",
       "      <th>63</th>\n",
       "      <td>2015</td>\n",
       "      <td>Yes, Please</td>\n",
       "      <td>Autobiography</td>\n",
       "    </tr>\n",
       "    <tr>\n",
       "      <th>64</th>\n",
       "      <td>2015</td>\n",
       "      <td>Servant Economy</td>\n",
       "      <td>Nonfiction</td>\n",
       "    </tr>\n",
       "  </tbody>\n",
       "</table>\n",
       "<p>63 rows × 3 columns</p>\n",
       "</div>"
      ],
      "text/plain": [
       "    Year                          Title                  Genre\n",
       "0   2022   The Bear and the Nightingale        Fantasy Fiction\n",
       "1   2022            The Midnight Library       Fantasy Fiction\n",
       "2   2022                         Untamed             Biography\n",
       "3   2022  The Almanack of Naval Ravikant  Personal development\n",
       "6   2021         Signature of All Things    Historical fiction\n",
       "..   ...                             ...                   ...\n",
       "60  2015           The Feminine Mystique            Nonfiction\n",
       "61  2015                     I am Malala             Biography\n",
       "62  2015                 You’re so Money              Finances\n",
       "63  2015                     Yes, Please         Autobiography\n",
       "64  2015                 Servant Economy            Nonfiction\n",
       "\n",
       "[63 rows x 3 columns]"
      ]
     },
     "execution_count": 5,
     "metadata": {},
     "output_type": "execute_result"
    }
   ],
   "source": [
    "#removing duplicates\n",
    "df.drop_duplicates()"
   ]
  },
  {
   "cell_type": "code",
   "execution_count": 6,
   "id": "39a5ed4c",
   "metadata": {},
   "outputs": [
    {
     "data": {
      "text/html": [
       "<div>\n",
       "<style scoped>\n",
       "    .dataframe tbody tr th:only-of-type {\n",
       "        vertical-align: middle;\n",
       "    }\n",
       "\n",
       "    .dataframe tbody tr th {\n",
       "        vertical-align: top;\n",
       "    }\n",
       "\n",
       "    .dataframe thead th {\n",
       "        text-align: right;\n",
       "    }\n",
       "</style>\n",
       "<table border=\"1\" class=\"dataframe\">\n",
       "  <thead>\n",
       "    <tr style=\"text-align: right;\">\n",
       "      <th></th>\n",
       "      <th>Year</th>\n",
       "      <th>Title</th>\n",
       "      <th>Genre</th>\n",
       "    </tr>\n",
       "  </thead>\n",
       "  <tbody>\n",
       "    <tr>\n",
       "      <th>0</th>\n",
       "      <td>2022</td>\n",
       "      <td>The Bear and the Nightingale</td>\n",
       "      <td>Fantasy Fiction</td>\n",
       "    </tr>\n",
       "    <tr>\n",
       "      <th>1</th>\n",
       "      <td>2022</td>\n",
       "      <td>The Midnight Library</td>\n",
       "      <td>Fantasy Fiction</td>\n",
       "    </tr>\n",
       "    <tr>\n",
       "      <th>2</th>\n",
       "      <td>2022</td>\n",
       "      <td>Untamed</td>\n",
       "      <td>Biography</td>\n",
       "    </tr>\n",
       "    <tr>\n",
       "      <th>3</th>\n",
       "      <td>2022</td>\n",
       "      <td>The Almanack of Naval Ravikant</td>\n",
       "      <td>Personal development</td>\n",
       "    </tr>\n",
       "    <tr>\n",
       "      <th>4</th>\n",
       "      <td>2022</td>\n",
       "      <td>Untamed</td>\n",
       "      <td>Biography</td>\n",
       "    </tr>\n",
       "    <tr>\n",
       "      <th>...</th>\n",
       "      <td>...</td>\n",
       "      <td>...</td>\n",
       "      <td>...</td>\n",
       "    </tr>\n",
       "    <tr>\n",
       "      <th>60</th>\n",
       "      <td>2015</td>\n",
       "      <td>The Feminine Mystique</td>\n",
       "      <td>Nonfiction</td>\n",
       "    </tr>\n",
       "    <tr>\n",
       "      <th>61</th>\n",
       "      <td>2015</td>\n",
       "      <td>I am Malala</td>\n",
       "      <td>Biography</td>\n",
       "    </tr>\n",
       "    <tr>\n",
       "      <th>62</th>\n",
       "      <td>2015</td>\n",
       "      <td>You’re so Money</td>\n",
       "      <td>Finances</td>\n",
       "    </tr>\n",
       "    <tr>\n",
       "      <th>63</th>\n",
       "      <td>2015</td>\n",
       "      <td>Yes, Please</td>\n",
       "      <td>Autobiography</td>\n",
       "    </tr>\n",
       "    <tr>\n",
       "      <th>64</th>\n",
       "      <td>2015</td>\n",
       "      <td>Servant Economy</td>\n",
       "      <td>Nonfiction</td>\n",
       "    </tr>\n",
       "  </tbody>\n",
       "</table>\n",
       "<p>65 rows × 3 columns</p>\n",
       "</div>"
      ],
      "text/plain": [
       "    Year                          Title                  Genre\n",
       "0   2022   The Bear and the Nightingale        Fantasy Fiction\n",
       "1   2022            The Midnight Library       Fantasy Fiction\n",
       "2   2022                         Untamed             Biography\n",
       "3   2022  The Almanack of Naval Ravikant  Personal development\n",
       "4   2022                         Untamed             Biography\n",
       "..   ...                             ...                   ...\n",
       "60  2015           The Feminine Mystique            Nonfiction\n",
       "61  2015                     I am Malala             Biography\n",
       "62  2015                 You’re so Money              Finances\n",
       "63  2015                     Yes, Please         Autobiography\n",
       "64  2015                 Servant Economy            Nonfiction\n",
       "\n",
       "[65 rows x 3 columns]"
      ]
     },
     "execution_count": 6,
     "metadata": {},
     "output_type": "execute_result"
    }
   ],
   "source": [
    "df.dropna()"
   ]
  },
  {
   "cell_type": "code",
   "execution_count": 7,
   "id": "5c8bbac2",
   "metadata": {},
   "outputs": [
    {
     "data": {
      "text/html": [
       "<div>\n",
       "<style scoped>\n",
       "    .dataframe tbody tr th:only-of-type {\n",
       "        vertical-align: middle;\n",
       "    }\n",
       "\n",
       "    .dataframe tbody tr th {\n",
       "        vertical-align: top;\n",
       "    }\n",
       "\n",
       "    .dataframe thead th {\n",
       "        text-align: right;\n",
       "    }\n",
       "</style>\n",
       "<table border=\"1\" class=\"dataframe\">\n",
       "  <thead>\n",
       "    <tr style=\"text-align: right;\">\n",
       "      <th></th>\n",
       "      <th>Year</th>\n",
       "      <th>Title</th>\n",
       "      <th>Genre</th>\n",
       "    </tr>\n",
       "  </thead>\n",
       "  <tbody>\n",
       "    <tr>\n",
       "      <th>0</th>\n",
       "      <td>2022</td>\n",
       "      <td>The Bear and the Nightingale</td>\n",
       "      <td>Fantasy Fiction</td>\n",
       "    </tr>\n",
       "    <tr>\n",
       "      <th>1</th>\n",
       "      <td>2022</td>\n",
       "      <td>The Midnight Library</td>\n",
       "      <td>Fantasy Fiction</td>\n",
       "    </tr>\n",
       "    <tr>\n",
       "      <th>2</th>\n",
       "      <td>2022</td>\n",
       "      <td>Untamed</td>\n",
       "      <td>Biography</td>\n",
       "    </tr>\n",
       "    <tr>\n",
       "      <th>3</th>\n",
       "      <td>2022</td>\n",
       "      <td>The Almanack of Naval Ravikant</td>\n",
       "      <td>Personal development</td>\n",
       "    </tr>\n",
       "    <tr>\n",
       "      <th>6</th>\n",
       "      <td>2021</td>\n",
       "      <td>Signature of All Things</td>\n",
       "      <td>Historical fiction</td>\n",
       "    </tr>\n",
       "    <tr>\n",
       "      <th>...</th>\n",
       "      <td>...</td>\n",
       "      <td>...</td>\n",
       "      <td>...</td>\n",
       "    </tr>\n",
       "    <tr>\n",
       "      <th>60</th>\n",
       "      <td>2015</td>\n",
       "      <td>The Feminine Mystique</td>\n",
       "      <td>Nonfiction</td>\n",
       "    </tr>\n",
       "    <tr>\n",
       "      <th>61</th>\n",
       "      <td>2015</td>\n",
       "      <td>I am Malala</td>\n",
       "      <td>Biography</td>\n",
       "    </tr>\n",
       "    <tr>\n",
       "      <th>62</th>\n",
       "      <td>2015</td>\n",
       "      <td>You’re so Money</td>\n",
       "      <td>Finances</td>\n",
       "    </tr>\n",
       "    <tr>\n",
       "      <th>63</th>\n",
       "      <td>2015</td>\n",
       "      <td>Yes, Please</td>\n",
       "      <td>Autobiography</td>\n",
       "    </tr>\n",
       "    <tr>\n",
       "      <th>64</th>\n",
       "      <td>2015</td>\n",
       "      <td>Servant Economy</td>\n",
       "      <td>Nonfiction</td>\n",
       "    </tr>\n",
       "  </tbody>\n",
       "</table>\n",
       "<p>63 rows × 3 columns</p>\n",
       "</div>"
      ],
      "text/plain": [
       "    Year                          Title                  Genre\n",
       "0   2022   The Bear and the Nightingale        Fantasy Fiction\n",
       "1   2022            The Midnight Library       Fantasy Fiction\n",
       "2   2022                         Untamed             Biography\n",
       "3   2022  The Almanack of Naval Ravikant  Personal development\n",
       "6   2021         Signature of All Things    Historical fiction\n",
       "..   ...                             ...                   ...\n",
       "60  2015           The Feminine Mystique            Nonfiction\n",
       "61  2015                     I am Malala             Biography\n",
       "62  2015                 You’re so Money              Finances\n",
       "63  2015                     Yes, Please         Autobiography\n",
       "64  2015                 Servant Economy            Nonfiction\n",
       "\n",
       "[63 rows x 3 columns]"
      ]
     },
     "execution_count": 7,
     "metadata": {},
     "output_type": "execute_result"
    }
   ],
   "source": [
    "df = df.drop_duplicates()\n",
    "df"
   ]
  },
  {
   "cell_type": "markdown",
   "id": "b4836f08",
   "metadata": {},
   "source": [
    "## Exploratory Data Analysis (EDA)"
   ]
  },
  {
   "cell_type": "code",
   "execution_count": 8,
   "id": "e3158b2a",
   "metadata": {},
   "outputs": [
    {
     "name": "stdout",
     "output_type": "stream",
     "text": [
      "<class 'pandas.core.frame.DataFrame'>\n",
      "Int64Index: 63 entries, 0 to 64\n",
      "Data columns (total 3 columns):\n",
      " #   Column  Non-Null Count  Dtype \n",
      "---  ------  --------------  ----- \n",
      " 0   Year    63 non-null     int64 \n",
      " 1   Title   63 non-null     object\n",
      " 2   Genre   63 non-null     object\n",
      "dtypes: int64(1), object(2)\n",
      "memory usage: 2.0+ KB\n"
     ]
    }
   ],
   "source": [
    "#learning more about the data. What is in here? What am I working with?\n",
    "df.info()"
   ]
  },
  {
   "cell_type": "code",
   "execution_count": 9,
   "id": "bd78a35a",
   "metadata": {},
   "outputs": [
    {
     "data": {
      "text/plain": [
       "Year       8\n",
       "Title     63\n",
       "Genre     19\n",
       "dtype: int64"
      ]
     },
     "execution_count": 9,
     "metadata": {},
     "output_type": "execute_result"
    }
   ],
   "source": [
    "#looking a unique values in df\n",
    "df.nunique()"
   ]
  },
  {
   "cell_type": "code",
   "execution_count": 10,
   "id": "52d19fd9",
   "metadata": {},
   "outputs": [
    {
     "data": {
      "text/plain": [
       "Personal development        15\n",
       "Biography                   10\n",
       "Nonfiction                   8\n",
       "Fantasy Fiction              4\n",
       "Historical fiction           4\n",
       "Autobiography                4\n",
       "Fiction                      3\n",
       "Historical Fiction           2\n",
       "Thriller                     2\n",
       "Finances                     2\n",
       "History                      1\n",
       "Mystery, Fiction             1\n",
       "Psychological Fiction        1\n",
       "Environment                  1\n",
       "Romance novel                1\n",
       "Business                     1\n",
       "Economics                    1\n",
       "Satire, literary fiction     1\n",
       "Novel                        1\n",
       "Name: Genre, dtype: int64"
      ]
     },
     "execution_count": 10,
     "metadata": {},
     "output_type": "execute_result"
    }
   ],
   "source": [
    "#counting how many books of each genre I read\n",
    "df['Genre'].value_counts()"
   ]
  },
  {
   "cell_type": "code",
   "execution_count": 27,
   "id": "345d1be9",
   "metadata": {},
   "outputs": [
    {
     "data": {
      "image/png": "[encoded data removed]",
      "text/plain": [
       "<Figure size 432x288 with 1 Axes>"
      ]
     },
     "metadata": {},
     "output_type": "display_data"
    }
   ],
   "source": [
    "#viz on genre\n",
    "#sns.set(style= 'darkgrid')\n",
    "bar = sns.countplot(x = 'Genre', data = df)\n",
    "\n",
    "#bar.set_xticklabels(bar.get_xticklabels(), rotation=30)"
   ]
  },
  {
   "cell_type": "code",
   "execution_count": 16,
   "id": "9be50dcb",
   "metadata": {},
   "outputs": [],
   "source": [
    "df2 = df.sort_values('Genre', ascending=True)"
   ]
  },
  {
   "cell_type": "code",
   "execution_count": 30,
   "id": "1d1b5fb5",
   "metadata": {},
   "outputs": [
    {
     "data": {
      "text/plain": [
       "Text(0.5, 1.0, 'Book Genres')"
      ]
     },
     "execution_count": 30,
     "metadata": {},
     "output_type": "execute_result"
    },
    {
     "data": {
      "image/png": "[encoded data removed]",
      "text/plain": [
       "<Figure size 648x360 with 1 Axes>"
      ]
     },
     "metadata": {},
     "output_type": "display_data"
    }
   ],
   "source": [
    "#plotting horizontally \n",
    "#sns.set(style= 'darkgrid')\n",
    "plt.figure(figsize=(9,5))\n",
    "bar = sns.countplot(y = 'Genre', data = df2)\n",
    "\n",
    "bar.set_title('Book Genres')"
   ]
  },
  {
   "cell_type": "markdown",
   "id": "0cba76e2",
   "metadata": {},
   "source": [
    "#### Another question came up, how many books do I read per year?"
   ]
  },
  {
   "cell_type": "code",
   "execution_count": 62,
   "id": "e4dbcb6e",
   "metadata": {},
   "outputs": [
    {
     "data": {
      "text/plain": [
       "127130"
      ]
     },
     "execution_count": 62,
     "metadata": {},
     "output_type": "execute_result"
    }
   ],
   "source": [
    "df['Year'].sum()"
   ]
  },
  {
   "cell_type": "code",
   "execution_count": 40,
   "id": "2d88e045",
   "metadata": {},
   "outputs": [
    {
     "data": {
      "text/plain": [
       "63"
      ]
     },
     "execution_count": 40,
     "metadata": {},
     "output_type": "execute_result"
    }
   ],
   "source": [
    "#how many books read per year\n",
    "#gives me total\n",
    "df['Year'].count()"
   ]
  },
  {
   "cell_type": "code",
   "execution_count": 23,
   "id": "e979b0b0",
   "metadata": {},
   "outputs": [],
   "source": [
    "# year_grouped = df.groupby(['Year']).agg('count')"
   ]
  },
  {
   "cell_type": "code",
   "execution_count": 25,
   "id": "d352fda3",
   "metadata": {},
   "outputs": [],
   "source": [
    "#year_grouped"
   ]
  },
  {
   "cell_type": "code",
   "execution_count": 19,
   "id": "5743d312",
   "metadata": {},
   "outputs": [],
   "source": [
    "yearly_count = df['Year'].value_counts()"
   ]
  },
  {
   "cell_type": "code",
   "execution_count": 20,
   "id": "87f3ddbb",
   "metadata": {},
   "outputs": [
    {
     "data": {
      "text/plain": [
       "2015    12\n",
       "2017    11\n",
       "2016     9\n",
       "2020     8\n",
       "2019     8\n",
       "2021     7\n",
       "2022     4\n",
       "2018     4\n",
       "Name: Year, dtype: int64"
      ]
     },
     "execution_count": 20,
     "metadata": {},
     "output_type": "execute_result"
    }
   ],
   "source": [
    "yearly_count"
   ]
  },
  {
   "cell_type": "code",
   "execution_count": 31,
   "id": "8bcc3391",
   "metadata": {},
   "outputs": [
    {
     "data": {
      "image/png": "[encoded data removed]",
      "text/plain": [
       "<Figure size 432x288 with 1 Axes>"
      ]
     },
     "metadata": {},
     "output_type": "display_data"
    }
   ],
   "source": [
    "#sns.set(style ='darkgrid')\n",
    "line = sns.lineplot(data = yearly_count)\n",
    "line.set_title('Count of Books Read per Year')\n",
    "plt.show()"
   ]
  },
  {
   "cell_type": "markdown",
   "id": "f329653e",
   "metadata": {},
   "source": [
    "## Summary- Insights"
   ]
  },
  {
   "cell_type": "markdown",
   "id": "a67f9a5e",
   "metadata": {},
   "source": [
    "#### 1. Persondal Development is the genre I've read the most\n",
    "#### 2. Most read books in 2015 and 2018 was the least. "
   ]
  },
  {
   "cell_type": "markdown",
   "id": "1970da30",
   "metadata": {},
   "source": [
    "## Resources"
   ]
  },
  {
   "cell_type": "code",
   "execution_count": null,
   "id": "67118084",
   "metadata": {},
   "outputs": [],
   "source": []
  },
  {
   "cell_type": "code",
   "execution_count": null,
   "id": "4870d565",
   "metadata": {},
   "outputs": [],
   "source": [
    "#organize: as a story,\n",
    "\n",
    "\n",
    "## https://medium.datadriveninvestor.com/python-pandas-library-for-beginners-a-simplified-guide-for-getting-started-and-ditching-20992b7cd4da"
   ]
  }
 ],
 "metadata": {
  "kernelspec": {
   "display_name": "Python 3 (ipykernel)",
   "language": "python",
   "name": "python3"
  },
  "language_info": {
   "codemirror_mode": {
    "name": "ipython",
    "version": 3
   },
   "file_extension": ".py",
   "mimetype": "text/x-python",
   "name": "python",
   "nbconvert_exporter": "python",
   "pygments_lexer": "ipython3",
   "version": "3.9.7"
  }
 },
 "nbformat": 4,
 "nbformat_minor": 5
}
